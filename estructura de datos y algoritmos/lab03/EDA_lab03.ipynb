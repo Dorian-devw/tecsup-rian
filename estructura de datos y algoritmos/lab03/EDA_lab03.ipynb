{
 "cells": [
  {
   "cell_type": "code",
   "execution_count": 19,
   "metadata": {},
   "outputs": [],
   "source": [
    "lista = [10, 20, 30, 40, 50] # Lista de números"
   ]
  },
  {
   "cell_type": "code",
   "execution_count": 20,
   "metadata": {},
   "outputs": [],
   "source": [
    "def prepend(lista, elemento): # Define prepend como una función que toma una lista y un elemento\n",
    "    lista.insert(0, elemento) # Inserta el elemento al inicio de la lista"
   ]
  },
  {
   "cell_type": "code",
   "execution_count": 21,
   "metadata": {},
   "outputs": [
    {
     "name": "stdout",
     "output_type": "stream",
     "text": [
      "Después de agregar 5 al inicio: [5, 10, 20, 30, 40, 50]\n"
     ]
    }
   ],
   "source": [
    "prepend(lista, 5) # Insertar el elemento al inicio de la lista\n",
    "print(\"Después de agregar 5 al inicio:\", lista) # Imprimir la lista después de agregar el elemento"
   ]
  },
  {
   "cell_type": "code",
   "execution_count": 22,
   "metadata": {},
   "outputs": [],
   "source": [
    "def remove_first(lista): # Remover el primer elemento de la lista\n",
    "    lista.pop(0) # Insertar el elemento en la posición 0"
   ]
  },
  {
   "cell_type": "code",
   "execution_count": 23,
   "metadata": {},
   "outputs": [
    {
     "name": "stdout",
     "output_type": "stream",
     "text": [
      "Después de eliminar el primer elemento: [10, 20, 30, 40, 50]\n"
     ]
    }
   ],
   "source": [
    "remove_first(lista) # Llamar a la función para eliminar el primer elemento\n",
    "print(\"Después de eliminar el primer elemento:\", lista) # Imprimir la lista después de eliminar el primer elemento"
   ]
  },
  {
   "cell_type": "code",
   "execution_count": 24,
   "metadata": {},
   "outputs": [],
   "source": [
    "def remove_last(lista): # Remover el último elemento de la lista\n",
    "    if lista: # Verificar si la lista no está vacía\n",
    "        lista.pop() # Eliminar el último elemento de la lista"
   ]
  },
  {
   "cell_type": "code",
   "execution_count": 25,
   "metadata": {},
   "outputs": [
    {
     "name": "stdout",
     "output_type": "stream",
     "text": [
      "Después de eliminar el último elemento: [10, 20, 30, 40]\n"
     ]
    }
   ],
   "source": [
    "remove_last(lista)  # Llamar a la función para eliminar el último elemento\n",
    "print(\"Después de eliminar el último elemento:\", lista)  # Imprimir la lista después de eliminar el último elemento"
   ]
  },
  {
   "cell_type": "code",
   "execution_count": 26,
   "metadata": {},
   "outputs": [],
   "source": [
    "def get(lista, index):  # Obtener un elemento de la lista por su índice\n",
    "    if 0 <= index < len(lista):  # Verificar si el índice está dentro del rango de la lista    \n",
    "        return lista[index]  # Obtener el elemento en la posición index\n",
    "    return None # Si el índice no es válido, devolver None"
   ]
  },
  {
   "cell_type": "code",
   "execution_count": 27,
   "metadata": {},
   "outputs": [
    {
     "name": "stdout",
     "output_type": "stream",
     "text": [
      "Dato en índice 1: 20\n"
     ]
    }
   ],
   "source": [
    "print(\"Dato en índice 1:\", get(lista, 1)) # Imprimir el elemento en el índice 1, que sería la 2da posición"
   ]
  },
  {
   "cell_type": "code",
   "execution_count": 29,
   "metadata": {},
   "outputs": [],
   "source": [
    "def update(lista, index, new_data): # Actualizar un elemento de la lista por su índice\n",
    "    if 0 <= index < len(lista):   # Verificar si el índice está dentro del rango de la lista\n",
    "        lista[index] = new_data  # Si el índice es válido, actualizar el elemento en esa posición"
   ]
  },
  {
   "cell_type": "code",
   "execution_count": 30,
   "metadata": {},
   "outputs": [
    {
     "name": "stdout",
     "output_type": "stream",
     "text": [
      "Después de actualizar el índice 1 a 100: [10, 100, 30, 40]\n"
     ]
    }
   ],
   "source": [
    "update(lista, 1, 100) # Llamar a la función para actualizar el elemento en el índice 1\n",
    "print(\"Después de actualizar el índice 1 a 100:\", lista)  # Imprimir la lista después de actualizar el elemento"
   ]
  },
  {
   "cell_type": "code",
   "execution_count": 31,
   "metadata": {},
   "outputs": [
    {
     "name": "stdout",
     "output_type": "stream",
     "text": [
      "Lista final: [10, 100, 30, 40]\n"
     ]
    }
   ],
   "source": [
    "print(\"Lista final:\", lista)"
   ]
  }
 ],
 "metadata": {
  "kernelspec": {
   "display_name": "Python 3",
   "language": "python",
   "name": "python3"
  },
  "language_info": {
   "codemirror_mode": {
    "name": "ipython",
    "version": 3
   },
   "file_extension": ".py",
   "mimetype": "text/x-python",
   "name": "python",
   "nbconvert_exporter": "python",
   "pygments_lexer": "ipython3",
   "version": "3.12.6"
  }
 },
 "nbformat": 4,
 "nbformat_minor": 2
}
